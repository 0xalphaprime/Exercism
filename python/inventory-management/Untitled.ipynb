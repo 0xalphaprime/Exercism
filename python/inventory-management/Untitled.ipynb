{
 "cells": [
  {
   "cell_type": "code",
   "execution_count": 2,
   "id": "2c5b5aae",
   "metadata": {},
   "outputs": [
    {
     "name": "stdout",
     "output_type": "stream",
     "text": [
      "Hello, World.\n"
     ]
    }
   ],
   "source": [
    "print(\"Hello, World.\")\n",
    "\n",
    "\n"
   ]
  },
  {
   "cell_type": "code",
   "execution_count": null,
   "id": "5315be2e",
   "metadata": {},
   "outputs": [],
   "source": [
    "dog = \"Mr. Red\"\n",
    "my_baby = \"HoneyBee\"\n"
   ]
  },
  {
   "cell_type": "code",
   "execution_count": 6,
   "id": "95dc5b48",
   "metadata": {},
   "outputs": [
    {
     "name": "stdout",
     "output_type": "stream",
     "text": [
      "Good Morning, from 100 Morningside Dr. Mr. Red is the excited one barking! My lovely HoneyBee is oh so lovely.\n"
     ]
    }
   ],
   "source": [
    "\n",
    "dog = \"Mr. Red\"\n",
    "my_baby = \"HoneyBee\"\n",
    "\n",
    "\n",
    "good_morning = f\"Good Morning, from 100 Morningside Dr. {dog} is the excited one barking! My lovely {my_baby} is oh so lovely.\"\n",
    "\n",
    "print(good_morning)"
   ]
  },
  {
   "cell_type": "code",
   "execution_count": null,
   "id": "66faa0c0",
   "metadata": {},
   "outputs": [],
   "source": []
  }
 ],
 "metadata": {
  "kernelspec": {
   "display_name": "Python 3 (ipykernel)",
   "language": "python",
   "name": "python3"
  },
  "language_info": {
   "codemirror_mode": {
    "name": "ipython",
    "version": 3
   },
   "file_extension": ".py",
   "mimetype": "text/x-python",
   "name": "python",
   "nbconvert_exporter": "python",
   "pygments_lexer": "ipython3",
   "version": "3.10.4"
  }
 },
 "nbformat": 4,
 "nbformat_minor": 5
}
